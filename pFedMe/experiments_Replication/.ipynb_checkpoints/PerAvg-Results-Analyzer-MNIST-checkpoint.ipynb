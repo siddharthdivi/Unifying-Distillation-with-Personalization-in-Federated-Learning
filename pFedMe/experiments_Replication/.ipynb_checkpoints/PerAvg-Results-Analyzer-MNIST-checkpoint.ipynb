{
 "cells": [
  {
   "cell_type": "markdown",
   "metadata": {},
   "source": [
    "This is the Result Analyzer notebook for the Per-FedAvg on the MNIST dataset for all three data-splits: \n",
    "(DS-1, DS-2, DS-3)."
   ]
  },
  {
   "cell_type": "code",
   "execution_count": 3,
   "metadata": {},
   "outputs": [],
   "source": [
    "import numpy as np\n",
    "import h5py"
   ]
  },
  {
   "cell_type": "code",
   "execution_count": 4,
   "metadata": {},
   "outputs": [],
   "source": [
    "# Helper function to help read the h5 files.\n",
    "def simple_read_data(fileName):\n",
    "    print(fileName)\n",
    "    hf = h5py.File('{}.h5'.format(fileName), 'r')\n",
    "    \n",
    "    # We'll return a dictionary object. \n",
    "    results = {}\n",
    "    \n",
    "    results['rs_glob_acc'] = np.array(hf.get('rs_glob_acc')[:])\n",
    "    results['rs_train_acc'] = np.array(hf.get('rs_train_acc')[:])\n",
    "    results['rs_train_loss'] = np.array(hf.get('rs_train_loss')[:])\n",
    "    \n",
    "    # 3D array: Read as [number of times, number of epochs, number of users].\n",
    "    results['perUserAccs'] = np.array(hf.get('perUserAccs'))\n",
    "    \n",
    "    return results"
   ]
  },
  {
   "cell_type": "markdown",
   "metadata": {},
   "source": [
    "### Datasplit-1"
   ]
  },
  {
   "cell_type": "raw",
   "metadata": {},
   "source": [
    "Enter the directoryPath of the 'results/' folder which is where all the result files of all experiments run would be stored. Right now it is linked to 'results_oldRuns' because this is where all the old experimental results files are stored. When you run your experiments, your results will be stored in 'results/' and hence you'll replace the following path with : '~/pFedMe/results/'."
   ]
  },
  {
   "cell_type": "code",
   "execution_count": 16,
   "metadata": {},
   "outputs": [],
   "source": [
    "# Define the global directory path.\n",
    "directoryPath = '/home/adgdri/pFedMe/results_oldRuns/'"
   ]
  },
  {
   "cell_type": "raw",
   "metadata": {},
   "source": [
    "If you run your set of experiments, then all you have to do to analyze those set of files is that you copy the names of all the files into the list variable 'fileNames'. Notice how the entries of the 'fileNames' variable only differ in the roundNum_x subsection."
   ]
  },
  {
   "cell_type": "code",
   "execution_count": 17,
   "metadata": {},
   "outputs": [
    {
     "name": "stdout",
     "output_type": "stream",
     "text": [
      "/home/adgdri/pFedMe/results_oldRuns/Mnist_PerAvg_p_0.001_0.001_15_10u_128b_20_0_roundNum_0_globalIters_800_dataSplit_1\n",
      "/home/adgdri/pFedMe/results_oldRuns/Mnist_PerAvg_p_0.001_0.001_15_10u_128b_20_0_roundNum_1_globalIters_800_dataSplit_1\n",
      "/home/adgdri/pFedMe/results_oldRuns/Mnist_PerAvg_p_0.001_0.001_15_10u_128b_20_0_roundNum_2_globalIters_800_dataSplit_1\n",
      "/home/adgdri/pFedMe/results_oldRuns/Mnist_PerAvg_p_0.001_0.001_15_10u_128b_20_0_roundNum_3_globalIters_800_dataSplit_1\n",
      "/home/adgdri/pFedMe/results_oldRuns/Mnist_PerAvg_p_0.001_0.001_15_10u_128b_20_0_roundNum_4_globalIters_800_dataSplit_1\n",
      "----------------------------------------\n",
      "\n",
      " Average accuracies across all the users over different runs : [0.99, 0.99, 0.9966666666666667, 0.9766666666666667, 0.9916666666666667]\n",
      "\n",
      " Average accuracy across all the different runs : 0.989000.\n",
      "\n",
      " Average per user accuracy averaged over different runs: \n",
      " [[0.9733]\n",
      " [0.99  ]\n",
      " [0.9967]\n",
      " [0.9867]\n",
      " [0.99  ]\n",
      " [0.9883]\n",
      " [0.9917]\n",
      " [0.9933]\n",
      " [0.9883]\n",
      " [0.9917]].\n",
      "\n",
      " Per-user averaged accuracy: \n",
      " 0.989000.\n"
     ]
    }
   ],
   "source": [
    "fileNames = [\n",
    "    'Mnist_PerAvg_p_0.001_0.001_15_10u_128b_20_0_roundNum_0_globalIters_800_dataSplit_1',\n",
    "    'Mnist_PerAvg_p_0.001_0.001_15_10u_128b_20_0_roundNum_1_globalIters_800_dataSplit_1',\n",
    "    'Mnist_PerAvg_p_0.001_0.001_15_10u_128b_20_0_roundNum_2_globalIters_800_dataSplit_1',\n",
    "    'Mnist_PerAvg_p_0.001_0.001_15_10u_128b_20_0_roundNum_3_globalIters_800_dataSplit_1',\n",
    "    'Mnist_PerAvg_p_0.001_0.001_15_10u_128b_20_0_roundNum_4_globalIters_800_dataSplit_1',\n",
    "]\n",
    "\n",
    "# Get the number of users.\n",
    "numUsers = int(fileNames[0].split('u')[0].split('_')[-1])\n",
    "\n",
    "avgPersAcc = []\n",
    "perUserAcc = np.zeros((1, numUsers))\n",
    "\n",
    "for fileName in fileNames:\n",
    "    ob = simple_read_data(directoryPath + fileName)\n",
    "    avgPersAcc.append( ob['rs_glob_acc'][-1] )\n",
    "    # Take the per user accuracy from the last epoch.\n",
    "    perUserAcc += ob['perUserAccs'][-1,:]\n",
    "\n",
    "# Average out over the different runs.\n",
    "perUserAcc /= len(fileNames)\n",
    "\n",
    "\n",
    "print ('----------------------------------------')\n",
    "\n",
    "print ('\\n Average accuracies across all the users over different runs : %s' % avgPersAcc)\n",
    "\n",
    "print ('\\n Average accuracy across all the different runs : %f.' % np.mean(avgPersAcc) )\n",
    "\n",
    "print ('\\n Average per user accuracy averaged over different runs: \\n %s.' % np.round(perUserAcc.T, 4))\n",
    "\n",
    "print ('\\n Per-user averaged accuracy: \\n %f.' % np.mean(np.round(perUserAcc.T, 4))) "
   ]
  },
  {
   "cell_type": "markdown",
   "metadata": {},
   "source": [
    "### Datasplit-2"
   ]
  },
  {
   "cell_type": "raw",
   "metadata": {},
   "source": [
    "Enter the directoryPath of the 'results/' folder which is where all the result files of all experiments run would be stored. Right now it is linked to 'results_oldRuns' because this is where all the old experimental results files are stored. When you run your experiments, your results will be stored in 'results/' and hence you'll replace the following path with : '~/pFedMe/results/'."
   ]
  },
  {
   "cell_type": "code",
   "execution_count": 14,
   "metadata": {},
   "outputs": [],
   "source": [
    "# Define the global directory path.\n",
    "directoryPath = '/home/adgdri/pFedMe/results_oldRuns/tempResults/'"
   ]
  },
  {
   "cell_type": "raw",
   "metadata": {},
   "source": [
    "If you run your set of experiments, then all you have to do to analyze those set of files is that you copy the names of all the files into the list variable 'fileNames'. Notice how the entries of the 'fileNames' variable only differ in the roundNum_x subsection."
   ]
  },
  {
   "cell_type": "code",
   "execution_count": 15,
   "metadata": {},
   "outputs": [
    {
     "name": "stdout",
     "output_type": "stream",
     "text": [
      "/home/adgdri/pFedMe/results_oldRuns/tempResults/Mnist_PerAvg_p_0.01_0.01_15_10u_128b_20_avg_roundNum_0_globalIters_800_dataSplit_2\n",
      "/home/adgdri/pFedMe/results_oldRuns/tempResults/Mnist_PerAvg_p_0.01_0.01_15_10u_128b_20_avg_roundNum_1_globalIters_800_dataSplit_2\n",
      "/home/adgdri/pFedMe/results_oldRuns/tempResults/Mnist_PerAvg_p_0.01_0.01_15_10u_128b_20_avg_roundNum_2_globalIters_800_dataSplit_2\n",
      "/home/adgdri/pFedMe/results_oldRuns/tempResults/Mnist_PerAvg_p_0.01_0.01_15_10u_128b_20_avg_roundNum_3_globalIters_800_dataSplit_2\n",
      "/home/adgdri/pFedMe/results_oldRuns/tempResults/Mnist_PerAvg_p_0.01_0.01_15_10u_128b_20_avg_roundNum_4_globalIters_800_dataSplit_2\n",
      "----------------------------------------\n",
      "\n",
      " Average accuracies across all the users over different runs : [0.8823931040368695, 0.8708080894274256, 0.8724076128701886, 0.875405359276327, 0.8741252773510838]\n",
      "\n",
      " Average accuracy across all the different runs : 0.875028.\n",
      "\n",
      " Average per user accuracy averaged over different runs: \n",
      " [[0.875 ]\n",
      " [0.8613]\n",
      " [0.8622]\n",
      " [0.8746]\n",
      " [0.8804]\n",
      " [0.8681]\n",
      " [0.8789]\n",
      " [0.8821]\n",
      " [0.8851]\n",
      " [0.8907]].\n",
      "\n",
      " Per-user averaged accuracy: \n",
      " 0.875840.\n"
     ]
    }
   ],
   "source": [
    "fileNames = [\n",
    "    'Mnist_PerAvg_p_0.01_0.01_15_10u_128b_20_avg_roundNum_0_globalIters_800_dataSplit_2',\n",
    "    'Mnist_PerAvg_p_0.01_0.01_15_10u_128b_20_avg_roundNum_1_globalIters_800_dataSplit_2',\n",
    "    'Mnist_PerAvg_p_0.01_0.01_15_10u_128b_20_avg_roundNum_2_globalIters_800_dataSplit_2',\n",
    "    'Mnist_PerAvg_p_0.01_0.01_15_10u_128b_20_avg_roundNum_3_globalIters_800_dataSplit_2',\n",
    "    'Mnist_PerAvg_p_0.01_0.01_15_10u_128b_20_avg_roundNum_4_globalIters_800_dataSplit_2',\n",
    "]\n",
    "\n",
    "# Get the number of users.\n",
    "numUsers = int(fileNames[0].split('u')[0].split('_')[-1])\n",
    "\n",
    "avgPersAcc = []\n",
    "perUserAcc = np.zeros((1, numUsers))\n",
    "\n",
    "for fileName in fileNames:\n",
    "    ob = simple_read_data(directoryPath + fileName)\n",
    "    avgPersAcc.append( ob['rs_glob_acc'][-1] )\n",
    "    # Take the per user accuracy from the last epoch.\n",
    "    perUserAcc += ob['perUserAccs'][:,-1,:]\n",
    "\n",
    "# Average out over the different runs.\n",
    "perUserAcc /= len(fileNames)\n",
    "\n",
    "\n",
    "print ('----------------------------------------')\n",
    "\n",
    "print ('\\n Average accuracies across all the users over different runs : %s' % avgPersAcc)\n",
    "\n",
    "print ('\\n Average accuracy across all the different runs : %f.' % np.mean(avgPersAcc) )\n",
    "\n",
    "print ('\\n Average per user accuracy averaged over different runs: \\n %s.' % np.round(perUserAcc.T, 4))\n",
    "\n",
    "print ('\\n Per-user averaged accuracy: \\n %f.' % np.mean(np.round(perUserAcc.T, 4))) "
   ]
  },
  {
   "cell_type": "markdown",
   "metadata": {},
   "source": [
    "### Datasplit-3"
   ]
  },
  {
   "cell_type": "raw",
   "metadata": {},
   "source": [
    "Enter the directoryPath of the 'results/' folder which is where all the result files of all experiments run would be stored. Right now it is linked to 'results_oldRuns' because this is where all the old experimental results files are stored. When you run your experiments, your results will be stored in 'results/' and hence you'll replace the following path with : '~/pFedMe/results/'."
   ]
  },
  {
   "cell_type": "code",
   "execution_count": 18,
   "metadata": {},
   "outputs": [],
   "source": [
    "# Define the global directory path.\n",
    "directoryPath = '/home/adgdri/pFedMe/results_oldRuns/tempResults/'"
   ]
  },
  {
   "cell_type": "raw",
   "metadata": {},
   "source": [
    "If you run your set of experiments, then all you have to do to analyze those set of files is that you copy the names of all the files into the list variable 'fileNames'. Notice how the entries of the 'fileNames' variable only differ in the roundNum_x subsection."
   ]
  },
  {
   "cell_type": "code",
   "execution_count": 19,
   "metadata": {},
   "outputs": [
    {
     "name": "stdout",
     "output_type": "stream",
     "text": [
      "/home/adgdri/pFedMe/results_oldRuns/tempResults/Mnist_PerAvg_p_0.01_0.01_15_10u_128b_20_avg_roundNum_0_globalIters_800_dataSplit_3\n",
      "/home/adgdri/pFedMe/results_oldRuns/tempResults/Mnist_PerAvg_p_0.01_0.01_15_10u_128b_20_avg_roundNum_1_globalIters_800_dataSplit_3\n",
      "/home/adgdri/pFedMe/results_oldRuns/tempResults/Mnist_PerAvg_p_0.01_0.01_15_10u_128b_20_avg_roundNum_2_globalIters_800_dataSplit_3\n",
      "/home/adgdri/pFedMe/results_oldRuns/tempResults/Mnist_PerAvg_p_0.01_0.01_15_10u_128b_20_avg_roundNum_3_globalIters_800_dataSplit_3\n",
      "/home/adgdri/pFedMe/results_oldRuns/tempResults/Mnist_PerAvg_p_0.01_0.01_15_10u_128b_20_avg_roundNum_4_globalIters_800_dataSplit_3\n",
      "----------------------------------------\n",
      "\n",
      " Average accuracies across all the users over different runs : [0.972674473959821, 0.9715319432543083, 0.9754332508093696, 0.969053513616454, 0.9756236907255761]\n",
      "\n",
      " Average accuracy across all the different runs : 0.972863.\n",
      "\n",
      " Average per user accuracy averaged over different runs: \n",
      " [[0.9859]\n",
      " [0.9764]\n",
      " [0.9677]\n",
      " [0.9595]\n",
      " [0.9712]\n",
      " [0.9773]\n",
      " [0.9816]\n",
      " [0.969 ]\n",
      " [0.9648]\n",
      " [0.9735]].\n",
      "\n",
      " Per-user averaged accuracy: \n",
      " 0.972690.\n"
     ]
    }
   ],
   "source": [
    "fileNames = [\n",
    "    'Mnist_PerAvg_p_0.01_0.01_15_10u_128b_20_avg_roundNum_0_globalIters_800_dataSplit_3',\n",
    "    'Mnist_PerAvg_p_0.01_0.01_15_10u_128b_20_avg_roundNum_1_globalIters_800_dataSplit_3',\n",
    "    'Mnist_PerAvg_p_0.01_0.01_15_10u_128b_20_avg_roundNum_2_globalIters_800_dataSplit_3',\n",
    "    'Mnist_PerAvg_p_0.01_0.01_15_10u_128b_20_avg_roundNum_3_globalIters_800_dataSplit_3',\n",
    "    'Mnist_PerAvg_p_0.01_0.01_15_10u_128b_20_avg_roundNum_4_globalIters_800_dataSplit_3',\n",
    "]\n",
    "\n",
    "# Get the number of users.\n",
    "numUsers = int(fileNames[0].split('u')[0].split('_')[-1])\n",
    "\n",
    "avgPersAcc = []\n",
    "perUserAcc = np.zeros((1, numUsers))\n",
    "\n",
    "for fileName in fileNames:\n",
    "    ob = simple_read_data(directoryPath + fileName)\n",
    "    avgPersAcc.append( ob['rs_glob_acc'][-1] )\n",
    "    # Take the per user accuracy from the last epoch.\n",
    "    perUserAcc += ob['perUserAccs'][:,-1,:]\n",
    "\n",
    "# Average out over the different runs.\n",
    "perUserAcc /= len(fileNames)\n",
    "\n",
    "print ('----------------------------------------')\n",
    "\n",
    "print ('\\n Average accuracies across all the users over different runs : %s' % avgPersAcc)\n",
    "\n",
    "print ('\\n Average accuracy across all the different runs : %f.' % np.mean(avgPersAcc) )\n",
    "\n",
    "print ('\\n Average per user accuracy averaged over different runs: \\n %s.' % np.round(perUserAcc.T, 4))\n",
    "\n",
    "print ('\\n Per-user averaged accuracy: \\n %f.' % np.mean(np.round(perUserAcc.T, 4))) "
   ]
  }
 ],
 "metadata": {
  "kernelspec": {
   "display_name": "Python 3",
   "language": "python",
   "name": "python3"
  },
  "language_info": {
   "codemirror_mode": {
    "name": "ipython",
    "version": 3
   },
   "file_extension": ".py",
   "mimetype": "text/x-python",
   "name": "python",
   "nbconvert_exporter": "python",
   "pygments_lexer": "ipython3",
   "version": "3.6.12"
  }
 },
 "nbformat": 4,
 "nbformat_minor": 4
}
